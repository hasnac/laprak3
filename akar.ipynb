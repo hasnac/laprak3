{
 "cells": [
  {
   "cell_type": "code",
   "execution_count": 37,
   "id": "46648d5f-6b78-47f7-9736-951853b19bdb",
   "metadata": {},
   "outputs": [
    {
     "name": "stdin",
     "output_type": "stream",
     "text": [
      "Masukkan nilai a :  1\n",
      "Masukkan nilai b :  2\n",
      "Masukkan nilai c :  5\n"
     ]
    },
    {
     "name": "stdout",
     "output_type": "stream",
     "text": [
      "Persamaan kuadrat: 1x^2 + 2x + 5 \n",
      "Determinannya adalah: -16\n",
      "Persamaan memiliki akar imaginer.\n",
      "x1 adalah: -2 + √-16 / 2*1\n",
      "x1 adalah: -2 - √-16 / 2*1\n"
     ]
    }
   ],
   "source": [
    "import cmath\n",
    "\n",
    "a = int(input(\"Masukkan nilai a : \"))\n",
    "b = int(input(\"Masukkan nilai b : \"))\n",
    "c = int(input(\"Masukkan nilai c : \"))\n",
    "\n",
    "d = b**2 - 4*a*c\n",
    "if d > 0:\n",
    "        x1 = (-b + cmath.sqrt(d)) / (2 * a)\n",
    "        x2 = (-b - cmath.sqrt(d)) / (2 * a)\n",
    "        print(f\"Persamaan kuadrat: {a}x^2 + {b}x + {c} \")\n",
    "        print(\"Determinannya :\", d)\n",
    "        print(\"Merupakan akar berbeda.\")\n",
    "        print(\"x1 adalah:\", x1.real)\n",
    "        print(\"x2 kedua adalah:\", x2.real)\n",
    "elif d == 0:\n",
    "        akar = -b / (2 * a)\n",
    "        print(f\"Persamaan kuadrat: {a}x^2 + {b}x + {c} \")\n",
    "        print(\"Determinannya :\", d)\n",
    "        print(\"Merupakan akar kembar\")\n",
    "        print(\"Akar :\", akar)\n",
    "else:\n",
    "        x1 = (-b + cmath.sqrt(d)) / (2 * a)\n",
    "        x2 = (-b - cmath.sqrt(d)) / (2 * a)\n",
    "        print(f\"Persamaan kuadrat: {a}x^2 + {b}x + {c} \")\n",
    "        print(\"Determinannya adalah:\", d)\n",
    "        print(\"Persamaan memiliki akar imaginer.\")\n",
    "        print(f\"x1 adalah: {-b} + √{d} / 2*{a}\")\n",
    "        print(f\"x1 adalah: {-b} - √{d} / 2*{a}\")"
   ]
  },
  {
   "cell_type": "code",
   "execution_count": null,
   "id": "5322db0a-e4c8-4986-a1cc-504147ba25ed",
   "metadata": {},
   "outputs": [],
   "source": []
  }
 ],
 "metadata": {
  "kernelspec": {
   "display_name": "Python 3 (ipykernel)",
   "language": "python",
   "name": "python3"
  },
  "language_info": {
   "codemirror_mode": {
    "name": "ipython",
    "version": 3
   },
   "file_extension": ".py",
   "mimetype": "text/x-python",
   "name": "python",
   "nbconvert_exporter": "python",
   "pygments_lexer": "ipython3",
   "version": "3.12.4"
  }
 },
 "nbformat": 4,
 "nbformat_minor": 5
}
