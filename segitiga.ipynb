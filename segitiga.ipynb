{
 "cells": [
  {
   "cell_type": "code",
   "execution_count": 1,
   "id": "df40063a-49ae-49df-8590-e150291ba2cb",
   "metadata": {},
   "outputs": [
    {
     "name": "stdin",
     "output_type": "stream",
     "text": [
      "sisi a :  1\n",
      "sisi b :  2\n",
      "sisi c :  3\n"
     ]
    },
    {
     "name": "stdout",
     "output_type": "stream",
     "text": [
      "segitiga ga valid\n"
     ]
    }
   ],
   "source": [
    "a = float(input(\"sisi a : \"))\n",
    "b = float(input(\"sisi b : \"))\n",
    "c = float(input(\"sisi c : \"))\n",
    "\n",
    "if a==b==c:\n",
    "    print(\"segitiga sama sisi\")\n",
    "elif a==b or a==c or b==c:\n",
    "    print(\"segitiga sama kaki\")\n",
    "elif a**2 + b**2 == c**2 or b**2 + c**2 == a**2:\n",
    "    print(\"segitiga siku siku\")\n",
    "elif a+b <= c or a+c <= b or c+b <= a: \n",
    "    print(\"segitiga ga valid\")\n",
    "else:\n",
    "    print(\"segitiga sembarang\")"
   ]
  },
  {
   "cell_type": "code",
   "execution_count": null,
   "id": "c17489bd-d153-44f4-919f-008a1ebd1e4d",
   "metadata": {},
   "outputs": [],
   "source": []
  }
 ],
 "metadata": {
  "kernelspec": {
   "display_name": "Python 3 (ipykernel)",
   "language": "python",
   "name": "python3"
  },
  "language_info": {
   "codemirror_mode": {
    "name": "ipython",
    "version": 3
   },
   "file_extension": ".py",
   "mimetype": "text/x-python",
   "name": "python",
   "nbconvert_exporter": "python",
   "pygments_lexer": "ipython3",
   "version": "3.12.4"
  }
 },
 "nbformat": 4,
 "nbformat_minor": 5
}
